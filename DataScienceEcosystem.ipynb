{
 "cells": [
  {
   "cell_type": "markdown",
   "id": "978e5b6d-f85c-4268-97f3-7f1c1ad63723",
   "metadata": {},
   "source": [
    "# Data Science Tools and Ecosystem"
   ]
  },
  {
   "cell_type": "markdown",
   "id": "8da4a456-2a13-4372-9d8f-6a35e470c95c",
   "metadata": {},
   "source": [
    "In this notebook, Data Science Tools and Ecosystem are summarized."
   ]
  },
  {
   "cell_type": "markdown",
   "id": "fcf2f024-ec4e-4bcf-a7e7-030dfaa9443b",
   "metadata": {},
   "source": [
    "**Objectives:**\n",
    "- Data management tools include: Relational Databases, NoSQL Databases, and Big Data Platforms.\n",
    "- Python is open source and R is free software.\n",
    "- API's facilitate communication between software components.\n",
    "- JupyterLite is a browswer based tool.\n",
    "- A Distributed Version Control System keeps track of changes to code, regardless of where it is stored."
   ]
  },
  {
   "cell_type": "markdown",
   "id": "a659c5b6-6ef1-4e22-98ee-e15e0bb99f62",
   "metadata": {},
   "source": [
    "Some of the popular languages that Data Scientists use are:\n",
    "1. Python\n",
    "2. R\n",
    "3. SQL\n",
    "4. Scala\n",
    "5. Java\n",
    "6. C++\n",
    "7. Julia"
   ]
  },
  {
   "cell_type": "markdown",
   "id": "e8b5cf16-b606-4b9d-88b2-cc652ca597fd",
   "metadata": {},
   "source": [
    "Some of the commonly used libraries used by Data Scientists include:\n",
    "1. Panda\n",
    "2. NumPy\n",
    "3. Matplotlib\n",
    "4. Seaborn\n",
    "5. Scikit-learn\n",
    "6. SciPy"
   ]
  },
  {
   "cell_type": "markdown",
   "id": "c66f1584-2b63-4044-b9f5-15536fc3e309",
   "metadata": {},
   "source": [
    "|Data Science Tools|\n",
    "|------|\n",
    "|Jupyter Notebooks|\n",
    "|RStudio|\n",
    "|Github|"
   ]
  },
  {
   "cell_type": "markdown",
   "id": "5c2033e2-2aee-4b3a-b3e0-6230360ab8e5",
   "metadata": {},
   "source": [
    "### Below are a few examples of evaluating arithmetic expressions in Python\n",
    "- 2+2\n",
    "- 3.75*14\n",
    "- 987/33"
   ]
  },
  {
   "cell_type": "code",
   "execution_count": 3,
   "id": "21e4c845-ef61-4a07-8049-3e1534076403",
   "metadata": {},
   "outputs": [
    {
     "name": "stdout",
     "output_type": "stream",
     "text": [
      "17\n"
     ]
    }
   ],
   "source": [
    "\"This is a simple arithmetic expression to mutiply then add integers\"\n",
    "x = (3*4)+5\n",
    "print(x)"
   ]
  },
  {
   "cell_type": "code",
   "execution_count": 9,
   "id": "b92922a6-9aca-4bfd-89fa-b91a3472412e",
   "metadata": {},
   "outputs": [
    {
     "name": "stdout",
     "output_type": "stream",
     "text": [
      "3.3333333333333335\n"
     ]
    }
   ],
   "source": [
    "\"This will convert 200 minutes to hours by diving by 60\"\n",
    "x = 200/60\n",
    "print(x)"
   ]
  },
  {
   "cell_type": "markdown",
   "id": "5594061a-c729-48e9-b1af-df485ee11330",
   "metadata": {},
   "source": [
    "## Author\n",
    "Caleb Hudson"
   ]
  }
 ],
 "metadata": {
  "kernelspec": {
   "display_name": "Python 3 (ipykernel)",
   "language": "python",
   "name": "python3"
  },
  "language_info": {
   "codemirror_mode": {
    "name": "ipython",
    "version": 3
   },
   "file_extension": ".py",
   "mimetype": "text/x-python",
   "name": "python",
   "nbconvert_exporter": "python",
   "pygments_lexer": "ipython3",
   "version": "3.12.8"
  }
 },
 "nbformat": 4,
 "nbformat_minor": 5
}
